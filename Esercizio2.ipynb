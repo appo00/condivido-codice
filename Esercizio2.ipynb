{
 "cells": [
  {
   "cell_type": "code",
   "execution_count": 1,
   "metadata": {},
   "outputs": [],
   "source": [
    "# Initialization\n",
    "import numpy as np\n",
    "#import scipy as sci\n",
    "from scipy.integrate import quad\n",
    "from scipy import linalg\n",
    "from sympy import binomial\n",
    "import matplotlib.pyplot as pl\n",
    "import time\n",
    "import scipy.constants as sp"
   ]
  },
  {
   "cell_type": "code",
   "execution_count": 2,
   "metadata": {},
   "outputs": [],
   "source": [
    "h = sp.hbar\n",
    "nu = 1/2.25 #in fm^(-2)"
   ]
  },
  {
   "cell_type": "code",
   "execution_count": 3,
   "metadata": {},
   "outputs": [],
   "source": [
    "def He(x,n):\n",
    "    h0=1\n",
    "    if(n==0):\n",
    "        return h0\n",
    "    h1=x\n",
    "    if(n==1):\n",
    "        return h1\n",
    "    if(n>1):\n",
    "        for i in range(2,n+1):\n",
    "            h2=x*h1-(i-1)*h0\n",
    "            h0=h1\n",
    "            h1=h2\n",
    "        return h2"
   ]
  },
  {
   "cell_type": "code",
   "execution_count": null,
   "metadata": {},
   "outputs": [],
   "source": []
  }
 ],
 "metadata": {
  "kernelspec": {
   "display_name": "Python 3",
   "language": "python",
   "name": "python3"
  },
  "language_info": {
   "codemirror_mode": {
    "name": "ipython",
    "version": 3
   },
   "file_extension": ".py",
   "mimetype": "text/x-python",
   "name": "python",
   "nbconvert_exporter": "python",
   "pygments_lexer": "ipython3",
   "version": "3.10.11"
  },
  "orig_nbformat": 4
 },
 "nbformat": 4,
 "nbformat_minor": 2
}
