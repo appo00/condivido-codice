{
 "cells": [
  {
   "cell_type": "markdown",
   "id": "2e9a5d0c",
   "metadata": {},
   "source": [
    "# Variational Solution of the Schroedinger's Equation in 1D with the Variational Method"
   ]
  },
  {
   "cell_type": "markdown",
   "id": "7acada71",
   "metadata": {},
   "source": [
    "This code computes by means of the variational method the ground state wavefunction (and potentially a few excited states) of an arbitrary potential well in 1D using as basis the harmonic oscillator wavefunctions, and computing the matrix elements directly as 1d integrals (no exploitation of Gaussian integrals formulae)"
   ]
  },
  {
   "cell_type": "code",
   "execution_count": 29,
   "id": "8b57b167",
   "metadata": {},
   "outputs": [],
   "source": [
    "# Initialization\n",
    "import numpy as np\n",
    "#import scipy as sci\n",
    "from scipy.integrate import quad\n",
    "from scipy import linalg\n",
    "from sympy import binomial\n",
    "import matplotlib.pyplot as pl\n",
    "import time\n",
    "\n",
    "#Maximum number of functions to be used in the diagonalization\n",
    "Nfmax=10\n",
    "Nfmax=Nfmax+1\n",
    "# Maximum number of eigenvalues and eigenvectors to be printed\n",
    "neigmax=5"
   ]
  },
  {
   "attachments": {},
   "cell_type": "markdown",
   "id": "89d46a2b",
   "metadata": {},
   "source": [
    "\n",
    "Next you have to define the potential energy. You should start from some simple one, like for instance the harmonic oscillator"
   ]
  },
  {
   "cell_type": "code",
   "execution_count": 30,
   "id": "e0482fd9",
   "metadata": {},
   "outputs": [],
   "source": [
    "#Potential\n",
    "\n",
    "def v(x):\n",
    "    v = 0.5 * x ** 2 + 0.7 * x ** 4-2*x**3\n",
    "    return v"
   ]
  },
  {
   "cell_type": "markdown",
   "id": "65afff25",
   "metadata": {},
   "source": [
    "The following piece of code computes the Hermite functions (solutions of the Schroedinger's equation for the harmonic oscillator) by means of a recurrence formula. In particular given:\n",
    "$$\n",
    "\\psi_0(x)=\\frac{1}{\\pi^{\\frac{1}{4}}}\\exp\\left(-\\frac{x^2}{2}\\right)\n",
    "$$                          \n",
    "and\n",
    "$$\n",
    "\\psi_1(x)=\\frac{\\sqrt{2}}{\\pi^{\\frac{1}{4}}}x\\exp\\left(-\\frac{x^2}{2}\\right)=\\sqrt{2}x\\psi_0(x)\n",
    "$$\n",
    "the other functions can be computed using:\n",
    "$$\n",
    "\\psi_{n}(x)=\\sqrt{\\frac{2}{n}}\\psi_{n-1}(x)-\\sqrt{\\frac{n-1}{n}}\\psi_{n-2}(x)\n",
    "$$"
   ]
  },
  {
   "cell_type": "code",
   "execution_count": 31,
   "id": "dc8b4b6c",
   "metadata": {},
   "outputs": [],
   "source": [
    "#Hermite functions\n",
    "\n",
    "def Hermite(x,n):\n",
    "  return (x**n)*(1+x)*(1-x)"
   ]
  },
  {
   "cell_type": "markdown",
   "id": "69b639a2",
   "metadata": {},
   "source": [
    "Next one needs to compute the second derivative, used for the matrix element of the kinetic energy. In order to do that we need first to compute the $He_n(x)$ Hermite polynomials:"
   ]
  },
  {
   "cell_type": "code",
   "execution_count": 32,
   "id": "9dfed96f",
   "metadata": {},
   "outputs": [
    {
     "data": {
      "text/plain": [
       "' def He(x,n):\\n    h0=1\\n    if(n==0):\\n        return h0\\n    h1=x\\n    if(n==1):\\n        return h1\\n    if(n>1):\\n        for i in range(2,n+1):\\n            h2=x*h1-(i-1)*h0\\n            h0=h1\\n            h1=h2\\n        return h2 '"
      ]
     },
     "execution_count": 32,
     "metadata": {},
     "output_type": "execute_result"
    }
   ],
   "source": [
    "# Hermite polynomials\n",
    "\n",
    "\"\"\" def He(x,n):\n",
    "    h0=1\n",
    "    if(n==0):\n",
    "        return h0\n",
    "    h1=x\n",
    "    if(n==1):\n",
    "        return h1\n",
    "    if(n>1):\n",
    "        for i in range(2,n+1):\n",
    "            h2=x*h1-(i-1)*h0\n",
    "            h0=h1\n",
    "            h1=h2\n",
    "        return h2 \"\"\""
   ]
  },
  {
   "cell_type": "markdown",
   "id": "72aa7162",
   "metadata": {},
   "source": [
    "For the matrix element of the Hamiltonian you also need the second derivative of the wavefunctions, that can be computed by the following expression:\n",
    "$$\n",
    "\\frac{d^2\\psi_n(x)}{dx^2}=\\sum_{k=0}^{2}\\left(\\begin{array}{c}2\\\\k\\end{array}\\right)(-1)^k2^{\\frac{2-k}{2}}\\sqrt{\\frac{n!}{(n-2+k)!}}\\psi_{n-2+k}(x)He_k(x)\n",
    "$$\n",
    "when $n-2+k\\geq0$."
   ]
  },
  {
   "cell_type": "code",
   "execution_count": 33,
   "id": "8e2594df",
   "metadata": {},
   "outputs": [
    {
     "data": {
      "text/plain": [
       "' def d2Hermite(x,n):\\n    d2H = 0\\n    for k in range(3):\\n        if(n-2+k>=0):\\n            d2H = d2H+binomial(2,k)*(-1)**k*2**((2-k)/2)*                  np.sqrt(np.math.factorial(n)/np.math.factorial(n-2+k))*                  Hermite(x,n-2+k)*He(x,k)\\n    return d2H '"
      ]
     },
     "execution_count": 33,
     "metadata": {},
     "output_type": "execute_result"
    }
   ],
   "source": [
    "# second derivative\n",
    "\n",
    "\"\"\" def d2Hermite(x,n):\n",
    "    d2H = 0\n",
    "    for k in range(3):\n",
    "        if(n-2+k>=0):\n",
    "            d2H = d2H+binomial(2,k)*(-1)**k*2**((2-k)/2)*\\\n",
    "                  np.sqrt(np.math.factorial(n)/np.math.factorial(n-2+k))*\\\n",
    "                  Hermite(x,n-2+k)*He(x,k)\n",
    "    return d2H \"\"\""
   ]
  },
  {
   "cell_type": "markdown",
   "id": "e2aa5717",
   "metadata": {},
   "source": [
    "And now we are ready for computing the matrix elements (all the functions are real!):\n",
    "$$\n",
    "A_{ij}=\\langle \\psi_i\\vert \\hat{H} \\psi_j\\rangle =\\int_{-\\infty}^{\\infty} dx \\psi_i(x)v(x)\\psi_j(x)-\\frac{1}{2}\\int_{-\\infty}^{\\infty} dx \\psi_i(x)\\frac{d^2\\psi_j(x)}{dx^2}\n",
    "$$\n",
    "and diagonalize the matrix to find the coefficients of the expansion on the harmonic oscillator basis. We do this for a few numbers of wavefunctions, in order to closely monitor the convergence of the eigenvalue."
   ]
  },
  {
   "cell_type": "code",
   "execution_count": 34,
   "id": "0e185bf0",
   "metadata": {},
   "outputs": [
    {
     "name": "stdout",
     "output_type": "stream",
     "text": [
      "Number of Functions:   1   G.S. eigenvalue:  2.66667   Elapsed time:  0.00  s\n",
      "Number of Functions:   2   G.S. eigenvalue:  1.60000   Elapsed time:  0.00  s\n",
      "Number of Functions:   3   G.S. eigenvalue:  0.69391   Elapsed time:  0.00  s\n",
      "Number of Functions:   4   G.S. eigenvalue:  0.23872   Elapsed time:  0.00  s\n",
      "Number of Functions:   5   G.S. eigenvalue:  0.07056   Elapsed time:  0.00  s\n",
      "Number of Functions:   6   G.S. eigenvalue:  0.01887   Elapsed time:  0.00  s\n",
      "Number of Functions:   7   G.S. eigenvalue:  0.00471   Elapsed time:  0.00  s\n",
      "Number of Functions:   8   G.S. eigenvalue:  0.00112   Elapsed time:  0.00  s\n",
      "Number of Functions:   9   G.S. eigenvalue:  0.00026   Elapsed time:  0.00  s\n",
      "Number of Functions:  10   G.S. eigenvalue:  0.00006   Elapsed time:  0.00  s\n"
     ]
    }
   ],
   "source": [
    "Res=np.zeros(Nfmax)\n",
    "el_tim=np.zeros(Nfmax)\n",
    "NN=np.zeros(Nfmax)\n",
    "vv_print=np.zeros(neigmax)\n",
    "idx=0\n",
    "for Nfunc in range(1,Nfmax):\n",
    "    start_time=time.perf_counter()\n",
    "    A=np.zeros((Nfunc,Nfunc))\n",
    "    for i in range(Nfunc):\n",
    "        for j in range(Nfunc):\n",
    "           if((i+j)%2==0):\n",
    "                A[i,j] = -8*(1-j-i-2*i*j)/((i+j+3)*(i+j+1)*(i+j-1))\n",
    "           else:\n",
    "                A[i,j]=0\n",
    "           \"\"\"  I1=quad(lambda x: Hermite(x,i)*v(x)*Hermite(x,j),-np.inf,np.inf)\n",
    "            I2=quad(lambda x: Hermite(x,i)*d2Hermite(x,j),-np.inf,np.inf)\n",
    "            A[i,j]=I1[0]-0.5*I2[0] \"\"\"\n",
    "            #print(i,j,I1[0]-0.5*I2[0])\n",
    "    vv,ww=linalg.eigh(A)\n",
    "    end_time=time.perf_counter()\n",
    "    el_tim[idx]=end_time-start_time\n",
    "    print(\"Number of Functions: %3d  \" % Nfunc, \"G.S. eigenvalue: %8.5f\" % vv[0],\\\n",
    "          \"  Elapsed time: %5.2f\" % el_tim[idx], \" s\")\n",
    "          #,sep='\\t')\n",
    "    Res[idx]=vv[0]\n",
    "    NN[idx]=Nfunc\n",
    "    idx=idx+1"
   ]
  },
  {
   "cell_type": "markdown",
   "id": "714dc025",
   "metadata": {},
   "source": [
    "Now reconstruct the wavefunctions for the first few eigenstates"
   ]
  },
  {
   "cell_type": "code",
   "execution_count": 35,
   "id": "c8907cc8",
   "metadata": {},
   "outputs": [
    {
     "name": "stdout",
     "output_type": "stream",
     "text": [
      "First  5  eigenvalues: [5.66896997e-05 2.55570725e-04 3.44706956e-03 1.29534682e-02\n",
      " 7.49267532e-02]\n"
     ]
    }
   ],
   "source": [
    "vv_print=vv[0:neigmax]\n",
    "print(\"First \",neigmax,\" eigenvalues:\",vv_print)\n",
    "Psi=np.zeros([401,neigmax])\n",
    "xxx=np.zeros(401)\n",
    "vpot=np.zeros(401)\n",
    "eig_plot=np.zeros((401,neigmax))\n",
    "for k in range (401):\n",
    "        x = 0.1*(k-200)\n",
    "        xxx[k]=x\n",
    "        vpot[k]=v(x)\n",
    "        for l in range(neigmax):\n",
    "            eig_plot[k,l]=vv_print[l]\n",
    "            for n in range(Nfmax-1):\n",
    "                Psi[k,l]=Psi[k,l]+ww[n,l]*Hermite(x,n)"
   ]
  },
  {
   "cell_type": "markdown",
   "id": "640bafaf",
   "metadata": {},
   "source": [
    "And finally generate some plots"
   ]
  },
  {
   "cell_type": "code",
   "execution_count": 36,
   "id": "7a5eee3d",
   "metadata": {},
   "outputs": [
    {
     "data": {
      "image/png": "[encoded data removed]",
      "text/plain": [
       "<Figure size 640x480 with 1 Axes>"
      ]
     },
     "metadata": {},
     "output_type": "display_data"
    },
    {
     "data": {
      "image/png": "[encoded data removed]",
      "text/plain": [
       "<Figure size 640x480 with 5 Axes>"
      ]
     },
     "metadata": {},
     "output_type": "display_data"
    },
    {
     "data": {
      "image/png": "[encoded data removed]",
      "text/plain": [
       "<Figure size 640x480 with 1 Axes>"
      ]
     },
     "metadata": {},
     "output_type": "display_data"
    }
   ],
   "source": [
    "          \n",
    "pl.figure(1)\n",
    "pl.xlim([1,30])\n",
    "pl.ylim([-1.6,1.5])\n",
    "pl.plot(NN,Res,'ro')\n",
    "fig=pl.figure(2)\n",
    "#pl.xlim([-10, 10])\n",
    "ax=[]\n",
    "for l in range(neigmax):\n",
    "    if(l==0):\n",
    "        ax.append(fig.add_axes([0.1, l*0.9/neigmax, 0.8,0.9/neigmax ],\n",
    "                       ylim=(-3, 6),xlim=(-4,4)))\n",
    "    else:\n",
    "        ax.append(fig.add_axes([0.1, l*0.9/neigmax, 0.8,0.9/neigmax ],\n",
    "                       xticklabels=[], ylim=(-3, 6),xlim=(-4,4)))\n",
    "    #pl.subplot(neigmax,1,l+1)\n",
    "    ax[l].plot(xxx,Psi[:,l]**2*5,xxx,vpot,xxx,eig_plot[:,l])\n",
    "pl.show()\n",
    "pl.figure(3)\n",
    "pl.plot(NN,el_tim,'bo')\n",
    "pl.show()\n",
    "\n",
    "# See PyCharm help at https://www.jetbrains.com/help/pycharm/"
   ]
  },
  {
   "cell_type": "code",
   "execution_count": null,
   "id": "bf51c035",
   "metadata": {},
   "outputs": [],
   "source": []
  },
  {
   "cell_type": "code",
   "execution_count": null,
   "id": "b14ebec5",
   "metadata": {},
   "outputs": [],
   "source": []
  },
  {
   "cell_type": "code",
   "execution_count": null,
   "id": "24b87b02",
   "metadata": {},
   "outputs": [],
   "source": []
  }
 ],
 "metadata": {
  "kernelspec": {
   "display_name": "Python 3 (ipykernel)",
   "language": "python",
   "name": "python3"
  },
  "language_info": {
   "codemirror_mode": {
    "name": "ipython",
    "version": 3
   },
   "file_extension": ".py",
   "mimetype": "text/x-python",
   "name": "python",
   "nbconvert_exporter": "python",
   "pygments_lexer": "ipython3",
   "version": "3.10.10"
  }
 },
 "nbformat": 4,
 "nbformat_minor": 5
}
